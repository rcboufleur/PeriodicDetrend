{
 "cells": [
  {
   "cell_type": "markdown",
   "metadata": {},
   "source": [
    "Author: **Rodrigo C Boufleur (c)** | \n",
    "Date: March, 2021 | \n",
    "Email: rcboufleur at gmail.com | \n",
    "Version: 1.0\n",
    "\n",
    "The code aims to detrend binary stars periodic signals in light curves.\n",
    "\n",
    "The data is modeled after the following equation:\n",
    "\\\\[ y(t) = x(t) + a(t) + \\epsilon(t) \\\\]\n",
    "where \\\\(x(t)\\\\) describes the underlying periodic signal, \\\\(a(t)\\\\) describes the trend in the data, and \\\\(\\epsilon(t)\\\\) is the error associated to each data point.\n",
    "\n",
    "The code does not aim to minimize the error function. Instead, it assesses the common variations present in the data using phase folding methods. Once we are close to the periodic solution the mean phase folded light curve is calculated and subtracted from the original signal. The resulting curve is an estimate of the trend present in the data. A new period can be computed with the original data subtracted from the trend.\n",
    "\n",
    "Eclipses can be masked with the correspondent regions being interpolated."
   ]
  },
  {
   "cell_type": "markdown",
   "metadata": {},
   "source": [
    "## Import dependencies"
   ]
  },
  {
   "cell_type": "code",
   "execution_count": 1,
   "metadata": {},
   "outputs": [],
   "source": [
    "from PeriodicDetrend import DetrendLightCurve\n",
    "import numpy as np\n",
    "\n",
    "%matplotlib widget\n",
    "# auto reload local modules\n",
    "%load_ext autoreload\n",
    "%autoreload 2"
   ]
  },
  {
   "cell_type": "markdown",
   "metadata": {},
   "source": [
    "## Read the input data"
   ]
  },
  {
   "cell_type": "code",
   "execution_count": 2,
   "metadata": {},
   "outputs": [],
   "source": [
    "file = r'k2sc_240253681.txt'\n",
    "x, y = np.loadtxt(file, delimiter=',', skiprows=1, unpack=True)"
   ]
  },
  {
   "cell_type": "markdown",
   "metadata": {},
   "source": [
    "## Initialize the Application\n",
    "\n",
    "Instantiate the DetrendLightCurve object passing the parameters time (x), flux (y), and a name used to save the data.\n",
    "\n",
    "```lcd = DetrendLightCurve(x, y, name='k2sc_235009762')```\n",
    "\n",
    "\n",
    "Then, display the application\n",
    "\n",
    "```lcd.display()```"
   ]
  },
  {
   "cell_type": "code",
   "execution_count": 3,
   "metadata": {},
   "outputs": [
    {
     "data": {
      "application/vnd.jupyter.widget-view+json": {
       "model_id": "87f07debf78f44ab8109a97ee62c21cd",
       "version_major": 2,
       "version_minor": 0
      },
      "text/plain": [
       "Tab(children=(VBox(children=(HBox(children=(IntSlider(value=7, description='THREADS: ', layout=Layout(width='3…"
      ]
     },
     "metadata": {},
     "output_type": "display_data"
    }
   ],
   "source": [
    "lc = DetrendLightCurve(x, y, name='k2sc_240253681')\n",
    "# If the peiod is already none it can be passed in the instantiation\n",
    "# lc = DetrendLightCurve(x, y, name='k2sc_240253681', period=2.431)\n",
    "lc.display()"
   ]
  },
  {
   "cell_type": "markdown",
   "metadata": {},
   "source": [
    "### Analyzing Further Residuals"
   ]
  },
  {
   "cell_type": "code",
   "execution_count": 5,
   "metadata": {},
   "outputs": [
    {
     "data": {
      "application/vnd.jupyter.widget-view+json": {
       "model_id": "2e2c174f7a144ab4881094f9f15446be",
       "version_major": 2,
       "version_minor": 0
      },
      "text/plain": [
       "Tab(children=(VBox(children=(HBox(children=(IntSlider(value=7, description='THREADS: ', layout=Layout(width='3…"
      ]
     },
     "metadata": {},
     "output_type": "display_data"
    }
   ],
   "source": [
    "# let's retrive the residuals from calculations done\n",
    "residual = lc.trend\n",
    "\n",
    "residual_lc = DetrendLightCurve(x, residual, name='k2sc_240253681_residual')\n",
    "residual_lc.display()"
   ]
  }
 ],
 "metadata": {
  "kernelspec": {
   "display_name": "Python 3",
   "language": "python",
   "name": "python3"
  },
  "language_info": {
   "codemirror_mode": {
    "name": "ipython",
    "version": 3
   },
   "file_extension": ".py",
   "mimetype": "text/x-python",
   "name": "python",
   "nbconvert_exporter": "python",
   "pygments_lexer": "ipython3",
   "version": "3.9.1"
  }
 },
 "nbformat": 4,
 "nbformat_minor": 4
}
